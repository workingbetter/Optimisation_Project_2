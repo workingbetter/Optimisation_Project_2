{
  "nbformat": 4,
  "nbformat_minor": 0,
  "metadata": {
    "colab": {
      "provenance": [],
      "authorship_tag": "ABX9TyP3fhWyNpFNsb7VjXtYCEdl",
      "include_colab_link": true
    },
    "kernelspec": {
      "name": "python3",
      "display_name": "Python 3"
    },
    "language_info": {
      "name": "python"
    }
  },
  "cells": [
    {
      "cell_type": "markdown",
      "metadata": {
        "id": "view-in-github",
        "colab_type": "text"
      },
      "source": [
        "<a href=\"https://colab.research.google.com/github/workingbetter/Optimisation_Project_2/blob/main/Optimisation_3071806.ipynb\" target=\"_parent\"><img src=\"https://colab.research.google.com/assets/colab-badge.svg\" alt=\"Open In Colab\"/></a>"
      ]
    },
    {
      "cell_type": "markdown",
      "source": [
        "# Part 1: Maximising a Function"
      ],
      "metadata": {
        "id": "GT8cwpYu4v2M"
      }
    },
    {
      "cell_type": "code",
      "execution_count": null,
      "metadata": {
        "colab": {
          "base_uri": "https://localhost:8080/"
        },
        "id": "Q7r7vcFndW1B",
        "outputId": "66136f1a-86bb-4a74-9de4-64d59e35ca3c"
      },
      "outputs": [
        {
          "output_type": "stream",
          "name": "stdout",
          "text": [
            "Number of runs: 50\n",
            "Number of steps: 10000\n",
            "Random search:\n",
            "Maximum value: 8.351122094311705\n",
            "Best solution: x = 0.05066574577501859 , y = 0.2977675151748942 , z = 0.11625179596100743\n",
            "\n",
            "Hill climbing:\n",
            "Maximum value: 8.326618882846196\n",
            "Best solution: x = 0.049803241974865624 , y = 0.29915417887546 , z = -0.3577974169445486\n"
          ]
        }
      ],
      "source": [
        "import random\n",
        "import math\n",
        "\n",
        "def f(x, y, z):\n",
        "    return (\n",
        "        math.exp(math.cos(53 * z))\n",
        "        + math.sin(43 * math.exp(y))\n",
        "        + math.exp(math.sin(29 * x))\n",
        "        + math.sin(67 * math.sin(z))\n",
        "        + math.cos(math.cos(37 * y))\n",
        "        - (2 * x ** 2 + y ** 2 + z ** 2) / 4\n",
        "    )\n",
        "\n",
        "def random_search(steps):\n",
        "    xb = random.uniform(-1, 1)\n",
        "    yb = random.uniform(-1, 1)\n",
        "    zb = random.uniform(-1, 1)\n",
        "    fbest = f(xb, yb, zb)\n",
        "\n",
        "    for _ in range(steps):\n",
        "        xn = random.uniform(-1, 1)\n",
        "        yn = random.uniform(-1, 1)\n",
        "        zn = random.uniform(-1, 1)\n",
        "        fnew = f(xn, yn, zn)\n",
        "\n",
        "        if fnew > fbest:\n",
        "            xb = xn\n",
        "            yb = yn\n",
        "            zb = zn\n",
        "            fbest = fnew\n",
        "\n",
        "    return (xb, yb, zb), fbest\n",
        "\n",
        "def hill_climbing(steps, sigma=0.1):\n",
        "    xb = random.uniform(-1, 1)\n",
        "    yb = random.uniform(-1, 1)\n",
        "    zb = random.uniform(-1, 1)\n",
        "    fbest = f(xb, yb, zb)\n",
        "\n",
        "    for _ in range(steps):\n",
        "        xn = xb + random.gauss(0, sigma)\n",
        "        yn = yb + random.gauss(0, sigma)\n",
        "        zn = zb + random.gauss(0, sigma)\n",
        "        fnew = f(xn, yn, zn)\n",
        "\n",
        "        if fnew > fbest:\n",
        "            xb = xn\n",
        "            yb = yn\n",
        "            zb = zn\n",
        "            fbest = fnew\n",
        "\n",
        "    return (xb, yb, zb), fbest\n",
        "\n",
        "# Set the number of runs and steps\n",
        "num_runs = 50\n",
        "num_steps = 10000\n",
        "\n",
        "# Run both algorithms multiple times and collect results\n",
        "random_search_results = []\n",
        "hill_climbing_results = []\n",
        "\n",
        "for _ in range(num_runs):\n",
        "    random_search_results.append(random_search(num_steps))\n",
        "    hill_climbing_results.append(hill_climbing(num_steps))\n",
        "\n",
        "# Find and print the maximum values for both algorithms\n",
        "random_search_max = max(random_search_results, key=lambda x: x[1])\n",
        "hill_climbing_max = max(hill_climbing_results, key=lambda x: x[1])\n",
        "\n",
        "print(f\"Number of runs: {num_runs}\")\n",
        "print(f\"Number of steps: {num_steps}\")\n",
        "\n",
        "print(\"Random search:\")\n",
        "print(\"Maximum value:\", random_search_max[1])\n",
        "print(\"Best solution: x =\", random_search_max[0][0], \", y =\", random_search_max[0][1], \", z =\", random_search_max[0][2])\n",
        "\n",
        "print(\"\\nHill climbing:\")\n",
        "print(\"Maximum value:\", hill_climbing_max[1])\n",
        "print(\"Best solution: x =\", hill_climbing_max[0][0], \", y =\", hill_climbing_max[0][1], \", z =\", hill_climbing_max[0][2])\n"
      ]
    },
    {
      "cell_type": "code",
      "source": [],
      "metadata": {
        "id": "yOx6VbbelSsf"
      },
      "execution_count": null,
      "outputs": []
    },
    {
      "cell_type": "markdown",
      "source": [
        "# Part 2: Distribution Network"
      ],
      "metadata": {
        "id": "TFg7I2z59VM1"
      }
    },
    {
      "cell_type": "code",
      "source": [],
      "metadata": {
        "id": "vzbx76egNGdD"
      },
      "execution_count": null,
      "outputs": []
    },
    {
      "cell_type": "code",
      "source": [],
      "metadata": {
        "id": "h9MNdJ9LSXTK"
      },
      "execution_count": null,
      "outputs": []
    },
    {
      "cell_type": "code",
      "source": [],
      "metadata": {
        "id": "fgKvhyIsYZAn"
      },
      "execution_count": null,
      "outputs": []
    },
    {
      "cell_type": "code",
      "source": [],
      "metadata": {
        "id": "CpUT3xFRYZDQ"
      },
      "execution_count": null,
      "outputs": []
    },
    {
      "cell_type": "code",
      "source": [],
      "metadata": {
        "id": "4VMYk3olYZGu"
      },
      "execution_count": null,
      "outputs": []
    },
    {
      "cell_type": "code",
      "source": [],
      "metadata": {
        "id": "rC5IBL2pSXVT"
      },
      "execution_count": 41,
      "outputs": []
    },
    {
      "cell_type": "code",
      "source": [
        "import sys\n",
        "import math\n",
        "import random\n",
        "import heapq\n",
        "import matplotlib.pyplot as plt\n",
        "from itertools import chain\n",
        "from sklearn.cluster import KMeans\n",
        "import numpy as np\n",
        "\n",
        "\n",
        "class Graph:\n",
        "\n",
        "    def __init__(self, vertices):\n",
        "        self.vertices = vertices\n",
        "        self.n = len(vertices)\n",
        "\n",
        "    def x(self, v):\n",
        "        return self.vertices[v][0]\n",
        "\n",
        "    def y(self, v):\n",
        "        return self.vertices[v][1]\n",
        "\n",
        "    _d_lookup = {}\n",
        "\n",
        "    def d(self, u, v):\n",
        "        if (u, v) in self._d_lookup:\n",
        "            return self._d_lookup[(u, v)]\n",
        "        _distance = math.sqrt((u[0] - v[0])**2 + (u[1] - v[1])**2)\n",
        "        self._d_lookup[(u, v)], self._d_lookup[(v, u)] = _distance, _distance\n",
        "        return _distance\n",
        "\n",
        "class Route:\n",
        "\n",
        "    def __init__(self, g, vertices=None):\n",
        "        self.g = g\n",
        "        if vertices is None:\n",
        "            self.vertices = list(range(1, g.n))\n",
        "            random.shuffle(self.vertices)\n",
        "        else:\n",
        "            self.vertices = vertices\n",
        "        self.__cost = None\n",
        "\n",
        "    def cost(self):\n",
        "        if self.__cost is None:\n",
        "            self.__cost = 0\n",
        "            for i, j in zip([0] + self.vertices, self.vertices + [0]):\n",
        "                self.__cost += self.g.d(self.g.vertices[i], self.g.vertices[j])\n",
        "        return self.__cost\n",
        "\n",
        "class GeneticAlgorithm:\n",
        "\n",
        "    def __init__(self, g, population_size, k=5, elite_mating_rate=0.5,\n",
        "                 mutation_rate=0.015, mutation_swap_rate=0.2):\n",
        "        self.g = g\n",
        "        self.population = []\n",
        "        for _ in range(population_size):\n",
        "            self.population.append(Route(g))\n",
        "        self.population_size = population_size\n",
        "        self.k = k\n",
        "        self.elite_mating_rate = elite_mating_rate\n",
        "        self.mutation_rate = mutation_rate\n",
        "        self.mutation_swap_rate = mutation_swap_rate\n",
        "\n",
        "    def crossover(self, mum, dad):\n",
        "        size = len(mum.vertices)\n",
        "        alice, bob = [-1] * size, [-1] * size\n",
        "        start, end = sorted([random.randrange(size) for _ in range(2)])\n",
        "\n",
        "        for i in range(start, end + 1):\n",
        "            alice[i] = mum.vertices[i]\n",
        "            bob[i] = dad.vertices[i]\n",
        "\n",
        "        current_dad_position, current_mum_position = 0, 0\n",
        "        for i in chain(range(start), range(end + 1, size)):\n",
        "            while dad.vertices[current_dad_position] in alice:\n",
        "                current_dad_position += 1\n",
        "            while mum.vertices[current_mum_position] in bob:\n",
        "                current_mum_position += 1\n",
        "\n",
        "            alice[i] = dad.vertices[current_dad_position]\n",
        "            bob[i] = mum.vertices[current_mum_position]\n",
        "\n",
        "        return Route(self.g, alice), Route(self.g, bob)\n",
        "\n",
        "    def mutate(self, route):\n",
        "        if random.random() < self.mutation_rate:\n",
        "            for i in range(len(route.vertices)):\n",
        "                if random.random() < self.mutation_swap_rate:\n",
        "                    j = random.randrange(len(route.vertices))\n",
        "                    route.vertices[i], route.vertices[j] = route.vertices[j], route.vertices[i]\n",
        "\n",
        "\n",
        "    def select_parent(self, k):\n",
        "        tournament = random.sample(self.population, k)\n",
        "        return min(tournament, key=lambda route: route.cost())\n",
        "\n",
        "    def evolve(self):\n",
        "        new_population = []\n",
        "\n",
        "        elites = int(self.elite_mating_rate * self.population_size)\n",
        "        new_population.extend(heapq.nsmallest(elites, self.population, key=lambda route: route.cost()))\n",
        "\n",
        "        while len(new_population) < self.population_size:\n",
        "            mum = self.select_parent(self.k)\n",
        "            dad = self.select_parent(self.k)\n",
        "\n",
        "            alice, bob = self.crossover(mum, dad)\n",
        "            self.mutate(alice)\n",
        "            self.mutate(bob)\n",
        "\n",
        "            new_population.append(alice)\n",
        "            new_population.append(bob)\n",
        "\n",
        "        self.population = new_population\n",
        "\n",
        "def find_optimal_routes(vertices, n_clusters, n_genetic_iterations, population_size=100):\n",
        "    g = Graph(vertices)\n",
        "\n",
        "    kmeans = KMeans(n_clusters=n_clusters)\n",
        "    cluster_labels = kmeans.fit_predict(vertices)\n",
        "\n",
        "    subgraphs = [[] for _ in range(n_clusters)]\n",
        "    for i, cluster_label in enumerate(cluster_labels):\n",
        "        subgraphs[cluster_label].append(vertices[i])\n",
        "\n",
        "    optimal_routes = []\n",
        "    for subgraph in subgraphs:\n",
        "        ga = GeneticAlgorithm(Graph(subgraph), population_size)\n",
        "        for _ in range(n_genetic_iterations):\n",
        "            ga.evolve()\n",
        "        optimal_routes.append(min(ga.population, key=lambda route: route.cost()))\n",
        "\n",
        "    return optimal_routes\n",
        "\n",
        "\n",
        "def assign_warehouses(optimal_routes, warehouse_positions):\n",
        "    g = Graph(warehouse_positions)\n",
        "    warehouse_routes = {i: [] for i in range(len(warehouse_positions))}\n",
        "    for cluster_idx, route in enumerate(optimal_routes):\n",
        "        min_distance = float('inf')\n",
        "        min_warehouse_idx = None\n",
        "        for warehouse_idx, warehouse in enumerate(warehouse_positions):\n",
        "            for store in route.vertices:\n",
        "                distance = g.d(warehouse, route.g.vertices[store])\n",
        "                if distance < min_distance:\n",
        "                    min_distance = distance\n",
        "                    min_warehouse_idx = warehouse_idx\n",
        "        warehouse_routes[min_warehouse_idx].append(route)\n",
        "    return warehouse_routes\n",
        "\n",
        "\n",
        "\n",
        "\n",
        "def main():\n",
        "    vertices = [\n",
        "        (54.13917237, 10.16301447),\n",
        "        (5.163117855, 18.37136899),\n",
        "        (58.10773412, 97.325872),\n",
        "        (16.60663876, 73.67529068),\n",
        "        (10.92151473, 26.90262604),\n",
        "        (40.2830426, 49.00596112),\n",
        "        (95.90679501, 31.25379214),\n",
        "        (38.80688537, 61.84963412),\n",
        "        (50.77362816, 41.71229884),\n",
        "        (16.12104517, 4.174152112),\n",
        "        (30.57252604, 25.66416139),\n",
        "        (88.65418483, 28.60340585),\n",
        "        (76.15833298, 52.06010201),\n",
        "        (57.99079029, 58.29016932),\n",
        "        (80.11801005, 80.74242101),\n",
        "        (90.87902761, 90.97690565),\n",
        "        (2.587207522, 45.80849397),\n",
        "        (74.04980053, 2.986131158),\n",
        "        (71.70911665, 37.25817058),\n",
        "        (22.37191714, 94.53074723),\n",
        "        (24.10112206, 11.06658123),\n",
        "        (42.27800052, 9.141860385),\n",
        "        (58.3280586, 76.15907608),\n",
        "    ]\n",
        "\n",
        "\n",
        "    warehouse_positions = [\n",
        "        (0, 0),\n",
        "        (100, 100),\n",
        "    ]\n",
        "\n",
        "    vehicle_specs = [\n",
        "        {'type': 'Van', 'cost_per_mile': 1, 'max_stores': 4},\n",
        "        {'type': 'Lorry', 'cost_per_mile': 2, 'max_stores': 16},\n",
        "    ]\n",
        "\n",
        "\n",
        "    n_clusters = 2\n",
        "    n_genetic_iterations = 1000\n",
        "    optimal_routes = find_optimal_routes(vertices, n_clusters, n_genetic_iterations, population_size=100)\n",
        "    warehouse_routes = assign_warehouses(optimal_routes, warehouse_positions)\n",
        "\n",
        "    total_cost = 0\n",
        "\n",
        "    for warehouse_idx, routes in warehouse_routes.items():\n",
        "        print(f\"Warehouse {warehouse_idx + 1}:\")\n",
        "        \n",
        "        vehicle_counts = [0, 0]\n",
        "        for route in routes:\n",
        "            route_cost_van = route.cost() * vehicle_specs[0]['cost_per_mile']\n",
        "            route_cost_lorry = route.cost() * vehicle_specs[1]['cost_per_mile']\n",
        "            \n",
        "            if len(route.vertices) <= vehicle_specs[0]['max_stores'] and route_cost_van <= route_cost_lorry:\n",
        "                vehicle_counts[0] += 1\n",
        "                route.vehicle_type = vehicle_specs[0]\n",
        "            else:\n",
        "                vehicle_counts[1] += 1\n",
        "                route.vehicle_type = vehicle_specs[1]\n",
        "        \n",
        "        for vehicle_idx, vehicle_spec in enumerate(vehicle_specs):\n",
        "            num_vehicles = vehicle_counts[vehicle_idx]\n",
        "            print(f\"{num_vehicles} {vehicle_spec['type']}s\")\n",
        "\n",
        "        for route in routes:\n",
        "            cost = route.cost() * route.vehicle_type['cost_per_mile']\n",
        "            print(f\"Route: Stores: {route.vertices}, Total cost: £{cost:.2f}\")\n",
        "            total_cost += cost\n",
        "\n",
        "    print(f\"Total cost: £{total_cost:.2f}\")\n",
        "\n",
        "if __name__ == \"__main__\":\n",
        "    main()\n"
      ],
      "metadata": {
        "id": "wxl1Ht_RypSB",
        "outputId": "88a6bb4a-9b2d-4df8-c72c-52f503772ff2",
        "colab": {
          "base_uri": "https://localhost:8080/"
        }
      },
      "execution_count": null,
      "outputs": [
        {
          "output_type": "stream",
          "name": "stdout",
          "text": [
            "Warehouse 1:\n",
            "0 Vans\n",
            "1 Lorrys\n",
            "Route: Stores: [6, 8, 7, 3, 1, 2, 5, 4], Total cost: £387.86\n",
            "Warehouse 2:\n",
            "0 Vans\n",
            "1 Lorrys\n",
            "Route: Stores: [10, 9, 13, 8, 6, 3, 7, 11, 5, 2, 4, 1, 12], Total cost: £625.32\n",
            "Total cost: £1013.17\n"
          ]
        }
      ]
    },
    {
      "cell_type": "code",
      "source": [],
      "metadata": {
        "id": "f14edBUFypVf"
      },
      "execution_count": null,
      "outputs": []
    },
    {
      "cell_type": "code",
      "source": [],
      "metadata": {
        "id": "4mUIh39nypZj"
      },
      "execution_count": null,
      "outputs": []
    },
    {
      "cell_type": "code",
      "source": [],
      "metadata": {
        "id": "zeSn5Jf9ypcP"
      },
      "execution_count": null,
      "outputs": []
    },
    {
      "cell_type": "code",
      "source": [],
      "metadata": {
        "id": "fX3GCqOByper"
      },
      "execution_count": null,
      "outputs": []
    },
    {
      "cell_type": "code",
      "source": [],
      "metadata": {
        "id": "zsnSLZKsypgp"
      },
      "execution_count": null,
      "outputs": []
    },
    {
      "cell_type": "code",
      "source": [],
      "metadata": {
        "id": "yLlS4WyEypjM"
      },
      "execution_count": null,
      "outputs": []
    },
    {
      "cell_type": "code",
      "source": [],
      "metadata": {
        "id": "iYJdkTAbyplj"
      },
      "execution_count": null,
      "outputs": []
    },
    {
      "cell_type": "code",
      "source": [],
      "metadata": {
        "id": "B3La7ajJypoM"
      },
      "execution_count": null,
      "outputs": []
    },
    {
      "cell_type": "code",
      "source": [],
      "metadata": {
        "id": "QRrE2hMUypqf"
      },
      "execution_count": null,
      "outputs": []
    },
    {
      "cell_type": "code",
      "source": [],
      "metadata": {
        "id": "40UzTTRPyps7"
      },
      "execution_count": null,
      "outputs": []
    },
    {
      "cell_type": "code",
      "source": [],
      "metadata": {
        "id": "Z35uj-HgypvY"
      },
      "execution_count": null,
      "outputs": []
    },
    {
      "cell_type": "code",
      "source": [],
      "metadata": {
        "id": "9SAKYLEDypx1"
      },
      "execution_count": null,
      "outputs": []
    },
    {
      "cell_type": "code",
      "source": [],
      "metadata": {
        "id": "WmMjzBhGyp0a"
      },
      "execution_count": null,
      "outputs": []
    },
    {
      "cell_type": "code",
      "source": [],
      "metadata": {
        "id": "7z4_g_lcyp2N"
      },
      "execution_count": null,
      "outputs": []
    },
    {
      "cell_type": "code",
      "source": [],
      "metadata": {
        "id": "Lm2tjIZ3yp4y"
      },
      "execution_count": null,
      "outputs": []
    },
    {
      "cell_type": "code",
      "source": [],
      "metadata": {
        "id": "oJSmMPisyp7K"
      },
      "execution_count": null,
      "outputs": []
    },
    {
      "cell_type": "code",
      "source": [],
      "metadata": {
        "id": "HqDIezohyp9v"
      },
      "execution_count": null,
      "outputs": []
    },
    {
      "cell_type": "code",
      "source": [],
      "metadata": {
        "id": "9mVe1aDfyqAc"
      },
      "execution_count": null,
      "outputs": []
    },
    {
      "cell_type": "code",
      "source": [],
      "metadata": {
        "id": "OHO0beJbyqEB"
      },
      "execution_count": null,
      "outputs": []
    },
    {
      "cell_type": "code",
      "source": [],
      "metadata": {
        "id": "WviYA195SXX0"
      },
      "execution_count": 41,
      "outputs": []
    },
    {
      "cell_type": "code",
      "source": [],
      "metadata": {
        "id": "gc9KFQ9nSXaP"
      },
      "execution_count": null,
      "outputs": []
    },
    {
      "cell_type": "code",
      "source": [],
      "metadata": {
        "id": "cd5aig5qSXb6"
      },
      "execution_count": null,
      "outputs": []
    },
    {
      "cell_type": "code",
      "source": [],
      "metadata": {
        "id": "mBvEDLVaSXfB"
      },
      "execution_count": 41,
      "outputs": []
    },
    {
      "cell_type": "code",
      "source": [],
      "metadata": {
        "id": "ZN35vjWtSXic"
      },
      "execution_count": null,
      "outputs": []
    },
    {
      "cell_type": "code",
      "source": [
        "\n"
      ],
      "metadata": {
        "id": "pejit7eRL9M3"
      },
      "execution_count": 41,
      "outputs": []
    },
    {
      "cell_type": "code",
      "source": [],
      "metadata": {
        "id": "Ayv910MRy84d"
      },
      "execution_count": null,
      "outputs": []
    },
    {
      "cell_type": "code",
      "source": [],
      "metadata": {
        "id": "35SwIhh1lSul"
      },
      "execution_count": null,
      "outputs": []
    },
    {
      "cell_type": "code",
      "source": [],
      "metadata": {
        "id": "oW4zp69bbqxX"
      },
      "execution_count": 39,
      "outputs": []
    },
    {
      "cell_type": "code",
      "source": [
        "import sys\n",
        "import math\n",
        "import random\n",
        "import heapq\n",
        "import matplotlib.pyplot as plt\n",
        "from itertools import chain\n",
        "\n",
        "# Constants\n",
        "WAREHOUSES = ['W1', 'W2']\n",
        "STORES = [i for i in range(1, 24)]\n",
        "POPULATION_SIZE = 100\n",
        "GENERATIONS = 500\n",
        "MUTATION_RATE = 0.1\n",
        "VAN_CAPACITY = 4\n",
        "LORRY_CAPACITY = 16\n",
        "VAN_COST = 1\n",
        "LORRY_COST = 2\n",
        "\n",
        "# Location data\n",
        "LOCATIONS = {\n",
        "    1: (54.13917237, 10.16301447),\n",
        "    2: (5.163117855, 18.37136899),\n",
        "    3: (58.10773412, 97.325872),\n",
        "    4: (16.60663876, 73.67529068),\n",
        "    5: (10.92151473, 26.90262604),\n",
        "    6: (40.2830426, 49.00596112),\n",
        "    7: (95.90679501, 31.25379214),\n",
        "    8: (38.80688537, 61.84963412),\n",
        "    9: (50.77362816, 41.71229884),\n",
        "    10: (16.12104517, 4.174152112),\n",
        "    11: (30.57252604, 25.66416139),\n",
        "    12: (88.65418483, 28.60340585),\n",
        "    13: (76.15833298, 52.06010201),\n",
        "    14: (57.99079029, 58.29016932),\n",
        "    15: (80.11801005, 80.74242101),\n",
        "    16: (90.87902761, 90.97690565),\n",
        "    17: (2.587207522, 45.80849397),\n",
        "    18: (74.04980053, 2.986131158),\n",
        "    19: (71.70911665, 37.25817058),\n",
        "    20: (22.37191714, 94.53074723),\n",
        "    21: (24.10112206, 11.06658123),\n",
        "    22: (42.27800052, 9.141860385),\n",
        "    23: (58.3280586, 76.15907608),\n",
        "    'W1': (71.25359844, 18.21268482),\n",
        "    'W2': (57.24219473, 82.66876117),\n",
        "}\n",
        "\n",
        "\n",
        "\n",
        "def distance(a, b):\n",
        "    return math.sqrt((LOCATIONS[a][0] - LOCATIONS[b][0]) ** 2 + (LOCATIONS[a][1] - LOCATIONS[b][1]) ** 2)\n",
        "\n",
        "\n",
        "def create_individual():\n",
        "    individual = {warehouse: [] for warehouse in WAREHOUSES}\n",
        "    \n",
        "    for store in STORES:\n",
        "        closest_warehouse = min(WAREHOUSES, key=lambda w: distance(w, store))\n",
        "        individual[closest_warehouse].append(store)\n",
        "    \n",
        "    return individual\n",
        "\n",
        "def ordered_crossover(parent1, parent2, warehouse):\n",
        "    # Find crossover points\n",
        "    start, end = sorted(random.sample(range(len(parent1[warehouse])), 2))\n",
        "    \n",
        "    # Initialize child\n",
        "    child = [None] * len(parent1[warehouse])\n",
        "    \n",
        "    # Copy the stores between the crossover points from parent1\n",
        "    child[start:end+1] = parent1[warehouse][start:end+1]\n",
        "    \n",
        "    # Fill the rest of the child with stores from parent2\n",
        "    p2_stores = (store for store in parent2[warehouse] if store not in child)\n",
        "    for i in chain(range(start), range(end+1, len(child))):\n",
        "        child[i] = next(p2_stores)\n",
        "    \n",
        "    return child\n",
        "\n",
        "def calculate_cost(individual):\n",
        "    total_cost = 0\n",
        "    for warehouse, stores in individual.items():\n",
        "        if not stores:\n",
        "            continue\n",
        "        vehicle_count = math.ceil(len(stores) / VAN_CAPACITY)\n",
        "        vehicle_cost = VAN_COST\n",
        "        if len(stores) > VAN_CAPACITY:\n",
        "            vehicle_count = math.ceil(len(stores) / LORRY_CAPACITY)\n",
        "            vehicle_cost = LORRY_COST\n",
        "\n",
        "        cost = distance(warehouse, stores[0]) * vehicle_cost\n",
        "        for i in range(len(stores) - 1):\n",
        "            cost += distance(stores[i], stores[i + 1]) * vehicle_cost\n",
        "        cost += distance(stores[-1], warehouse) * vehicle_cost\n",
        "        cost *= vehicle_count\n",
        "        total_cost += cost\n",
        "\n",
        "    return total_cost\n",
        "\n",
        "\n",
        "def crossover(parent1, parent2):\n",
        "    child = {}\n",
        "    \n",
        "    for warehouse in WAREHOUSES:\n",
        "        if random.random() < 0.5:\n",
        "            child[warehouse] = ordered_crossover(parent1, parent2, warehouse)\n",
        "        else:\n",
        "            child[warehouse] = ordered_crossover(parent2, parent1, warehouse)\n",
        "\n",
        "    return child\n",
        "\n",
        "\n",
        "\n",
        "def mutate(individual):\n",
        "    for warehouse, stores in individual.items():\n",
        "        if random.random() < MUTATION_RATE:\n",
        "            a, b = random.sample(range(len(stores)), 2)\n",
        "            stores[a], stores[b] = stores[b], stores[a]\n",
        "\n",
        "    return individual\n",
        "\n",
        "\n",
        "\n",
        "def genetic_algorithm():\n",
        "    # Initialize the population based on the improved create_individual function\n",
        "    population = [create_individual() for _ in range(POPULATION_SIZE)]\n",
        "\n",
        "    for generation in range(GENERATIONS):\n",
        "        population.sort(key=calculate_cost)\n",
        "\n",
        "        if generation % 50 == 0:\n",
        "            print(f\"Generation {generation}: Cost {calculate_cost(population[0])}\")\n",
        "\n",
        "        new_population = population[:2]  # Elitism\n",
        "\n",
        "        while len(new_population) < POPULATION_SIZE:\n",
        "            parent1, parent2 = random.sample(population[:10], 2)\n",
        "            child = crossover(parent1, parent2)\n",
        "            child = mutate(child)\n",
        "            new_population.append(child)\n",
        "\n",
        "        population = new_population\n",
        "\n",
        "    return population[0]\n",
        "    \n",
        "\n",
        "def route_summary(individual):\n",
        "    summary = {}\n",
        "    for warehouse, stores in individual.items():\n",
        "        routes = []\n",
        "\n",
        "        for i in range(0, len(stores), VAN_CAPACITY):\n",
        "            route_stores = stores[i: i + VAN_CAPACITY]\n",
        "\n",
        "            van_cost = VAN_COST * (distance(warehouse, route_stores[0]) + distance(route_stores[-1], warehouse))\n",
        "            for j in range(len(route_stores) - 1):\n",
        "                van_cost += VAN_COST * distance(route_stores[j], route_stores[j + 1])\n",
        "\n",
        "            lorry_cost = LORRY_COST * (distance(warehouse, route_stores[0]) + distance(route_stores[-1], warehouse))\n",
        "            for j in range(len(route_stores) - 1):\n",
        "                lorry_cost += LORRY_COST * distance(route_stores[j], route_stores[j + 1])\n",
        "\n",
        "            if van_cost <= lorry_cost:\n",
        "                routes.append((warehouse, 'van', route_stores))\n",
        "            else:\n",
        "                routes.append((warehouse, 'lorry', route_stores))\n",
        "\n",
        "        summary[warehouse] = {\n",
        "            'routes': routes,\n",
        "        }\n",
        "\n",
        "    return summary\n",
        "\n",
        "\n",
        "\n",
        "\n",
        "\n",
        "\n",
        "\n",
        "def plot_routes(summary):\n",
        "    for warehouse, details in summary.items():\n",
        "        for _, vehicle_type, route_stores in details['routes']:\n",
        "            x = [LOCATIONS[warehouse][0]] + [LOCATIONS[store][0] for store in route_stores] + [LOCATIONS[warehouse][0]]\n",
        "            y = [LOCATIONS[warehouse][1]] + [LOCATIONS[store][1] for store in route_stores] + [LOCATIONS[warehouse][1]]\n",
        "            \n",
        "            plt.plot(x, y, marker='o')\n",
        "            plt.text(LOCATIONS[warehouse][0], LOCATIONS[warehouse][1], warehouse, fontsize=12, fontweight='bold')\n",
        "            for store in route_stores:\n",
        "                plt.text(LOCATIONS[store][0], LOCATIONS[store][1], str(store), fontsize=10)\n",
        "            \n",
        "    plt.title(\"Vehicle Routes\")\n",
        "    plt.xlabel(\"X\")\n",
        "    plt.ylabel(\"Y\")\n",
        "    plt.grid()\n",
        "    plt.show()\n",
        "\n",
        "def main():\n",
        "    best_individual = genetic_algorithm()\n",
        "    total_cost = calculate_cost(best_individual)\n",
        "    summary = route_summary(best_individual)\n",
        "\n",
        "\n",
        "\n",
        "    print(\"Best Delivery Strategy:\")\n",
        "    for warehouse, stores in best_individual.items():\n",
        "        print(f\"{warehouse}: {', '.join(map(str, stores))}\")\n",
        "\n",
        "    print(\"\\nVehicle Requirements:\")\n",
        "    for warehouse, details in summary.items():\n",
        "        van_count = sum(1 for _, vehicle_type, _ in details['routes'] if vehicle_type == 'van')\n",
        "        lorry_count = sum(1 for _, vehicle_type, _ in details['routes'] if vehicle_type == 'lorry')\n",
        "        print(f\"{warehouse}: {van_count} vans, {lorry_count} lorries\")\n",
        "\n",
        "    print(\"\\nRoutes:\")\n",
        "    for warehouse, details in summary.items():\n",
        "        for _, vehicle_type, route_stores in details['routes']:\n",
        "            print(f\"{warehouse} -> {vehicle_type} -> {', '.join(map(str, route_stores))} -> {warehouse}\")\n",
        "\n",
        "    print(f\"\\nTotal Cost: £{total_cost}\")\n",
        "\n",
        "\n",
        "    print(\"\\nPlotting Routes:\")\n",
        "    plot_routes(summary)\n",
        "\n",
        "if __name__ == \"__main__\":\n",
        "    main()\n",
        "\n"
      ],
      "metadata": {
        "id": "dnWrSJH9s2Mc",
        "colab": {
          "base_uri": "https://localhost:8080/",
          "height": 993
        },
        "outputId": "78ca9f54-b568-4cd0-859e-f5614f485975"
      },
      "execution_count": 41,
      "outputs": [
        {
          "output_type": "stream",
          "name": "stdout",
          "text": [
            "Generation 0: Cost 1865.3035698709496\n",
            "Generation 50: Cost 1142.5853417402714\n",
            "Generation 100: Cost 1142.5853417402714\n",
            "Generation 150: Cost 1142.5853417402714\n",
            "Generation 200: Cost 1142.5853417402714\n",
            "Generation 250: Cost 1142.5853417402714\n",
            "Generation 300: Cost 1142.5853417402714\n",
            "Generation 350: Cost 1142.5853417402714\n",
            "Generation 400: Cost 1142.5853417402714\n",
            "Generation 450: Cost 1142.5853417402714\n",
            "Best Delivery Strategy:\n",
            "W1: 1, 22, 5, 2, 10, 21, 11, 9, 19, 13, 7, 12, 18\n",
            "W2: 4, 17, 6, 8, 14, 15, 16, 3, 20, 23\n",
            "\n",
            "Vehicle Requirements:\n",
            "W1: 4 vans, 0 lorries\n",
            "W2: 3 vans, 0 lorries\n",
            "\n",
            "Routes:\n",
            "W1 -> van -> 1, 22, 5, 2 -> W1\n",
            "W1 -> van -> 10, 21, 11, 9 -> W1\n",
            "W1 -> van -> 19, 13, 7, 12 -> W1\n",
            "W1 -> van -> 18 -> W1\n",
            "W2 -> van -> 4, 17, 6, 8 -> W2\n",
            "W2 -> van -> 14, 15, 16, 3 -> W2\n",
            "W2 -> van -> 20, 23 -> W2\n",
            "\n",
            "Total Cost: £1142.5853417402714\n",
            "\n",
            "Plotting Routes:\n"
          ]
        },
        {
          "output_type": "display_data",
          "data": {
            "text/plain": [
              "<Figure size 640x480 with 1 Axes>"
            ],
            "image/png": "[encoded data removed]"
          },
          "metadata": {}
        }
      ]
    }
  ]
}