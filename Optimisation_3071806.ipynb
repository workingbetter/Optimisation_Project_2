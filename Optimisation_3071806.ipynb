{
  "nbformat": 4,
  "nbformat_minor": 0,
  "metadata": {
    "colab": {
      "provenance": [],
      "authorship_tag": "ABX9TyNo77i2jP86cNaCP6havAo2",
      "include_colab_link": true
    },
    "kernelspec": {
      "name": "python3",
      "display_name": "Python 3"
    },
    "language_info": {
      "name": "python"
    }
  },
  "cells": [
    {
      "cell_type": "markdown",
      "metadata": {
        "id": "view-in-github",
        "colab_type": "text"
      },
      "source": [
        "<a href=\"https://colab.research.google.com/github/workingbetter/Optimisation_Project_2/blob/main/Optimisation_3071806.ipynb\" target=\"_parent\"><img src=\"https://colab.research.google.com/assets/colab-badge.svg\" alt=\"Open In Colab\"/></a>"
      ]
    },
    {
      "cell_type": "code",
      "execution_count": 86,
      "metadata": {
        "colab": {
          "base_uri": "https://localhost:8080/"
        },
        "id": "Q7r7vcFndW1B",
        "outputId": "66136f1a-86bb-4a74-9de4-64d59e35ca3c"
      },
      "outputs": [
        {
          "output_type": "stream",
          "name": "stdout",
          "text": [
            "Number of runs: 50\n",
            "Number of steps: 10000\n",
            "Random search:\n",
            "Maximum value: 8.351122094311705\n",
            "Best solution: x = 0.05066574577501859 , y = 0.2977675151748942 , z = 0.11625179596100743\n",
            "\n",
            "Hill climbing:\n",
            "Maximum value: 8.326618882846196\n",
            "Best solution: x = 0.049803241974865624 , y = 0.29915417887546 , z = -0.3577974169445486\n"
          ]
        }
      ],
      "source": [
        "import random\n",
        "import math\n",
        "\n",
        "def f(x, y, z):\n",
        "    return (\n",
        "        math.exp(math.cos(53 * z))\n",
        "        + math.sin(43 * math.exp(y))\n",
        "        + math.exp(math.sin(29 * x))\n",
        "        + math.sin(67 * math.sin(z))\n",
        "        + math.cos(math.cos(37 * y))\n",
        "        - (2 * x ** 2 + y ** 2 + z ** 2) / 4\n",
        "    )\n",
        "\n",
        "def random_search(steps):\n",
        "    xb = random.uniform(-1, 1)\n",
        "    yb = random.uniform(-1, 1)\n",
        "    zb = random.uniform(-1, 1)\n",
        "    fbest = f(xb, yb, zb)\n",
        "\n",
        "    for _ in range(steps):\n",
        "        xn = random.uniform(-1, 1)\n",
        "        yn = random.uniform(-1, 1)\n",
        "        zn = random.uniform(-1, 1)\n",
        "        fnew = f(xn, yn, zn)\n",
        "\n",
        "        if fnew > fbest:\n",
        "            xb = xn\n",
        "            yb = yn\n",
        "            zb = zn\n",
        "            fbest = fnew\n",
        "\n",
        "    return (xb, yb, zb), fbest\n",
        "\n",
        "def hill_climbing(steps, sigma=0.1):\n",
        "    xb = random.uniform(-1, 1)\n",
        "    yb = random.uniform(-1, 1)\n",
        "    zb = random.uniform(-1, 1)\n",
        "    fbest = f(xb, yb, zb)\n",
        "\n",
        "    for _ in range(steps):\n",
        "        xn = xb + random.gauss(0, sigma)\n",
        "        yn = yb + random.gauss(0, sigma)\n",
        "        zn = zb + random.gauss(0, sigma)\n",
        "        fnew = f(xn, yn, zn)\n",
        "\n",
        "        if fnew > fbest:\n",
        "            xb = xn\n",
        "            yb = yn\n",
        "            zb = zn\n",
        "            fbest = fnew\n",
        "\n",
        "    return (xb, yb, zb), fbest\n",
        "\n",
        "# Set the number of runs and steps\n",
        "num_runs = 50\n",
        "num_steps = 10000\n",
        "\n",
        "# Run both algorithms multiple times and collect results\n",
        "random_search_results = []\n",
        "hill_climbing_results = []\n",
        "\n",
        "for _ in range(num_runs):\n",
        "    random_search_results.append(random_search(num_steps))\n",
        "    hill_climbing_results.append(hill_climbing(num_steps))\n",
        "\n",
        "# Find and print the maximum values for both algorithms\n",
        "random_search_max = max(random_search_results, key=lambda x: x[1])\n",
        "hill_climbing_max = max(hill_climbing_results, key=lambda x: x[1])\n",
        "\n",
        "print(f\"Number of runs: {num_runs}\")\n",
        "print(f\"Number of steps: {num_steps}\")\n",
        "\n",
        "print(\"Random search:\")\n",
        "print(\"Maximum value:\", random_search_max[1])\n",
        "print(\"Best solution: x =\", random_search_max[0][0], \", y =\", random_search_max[0][1], \", z =\", random_search_max[0][2])\n",
        "\n",
        "print(\"\\nHill climbing:\")\n",
        "print(\"Maximum value:\", hill_climbing_max[1])\n",
        "print(\"Best solution: x =\", hill_climbing_max[0][0], \", y =\", hill_climbing_max[0][1], \", z =\", hill_climbing_max[0][2])\n"
      ]
    },
    {
      "cell_type": "code",
      "source": [],
      "metadata": {
        "id": "yOx6VbbelSsf"
      },
      "execution_count": 81,
      "outputs": []
    },
    {
      "cell_type": "code",
      "source": [],
      "metadata": {
        "id": "Ayv910MRy84d"
      },
      "execution_count": null,
      "outputs": []
    },
    {
      "cell_type": "code",
      "source": [],
      "metadata": {
        "id": "35SwIhh1lSul"
      },
      "execution_count": 69,
      "outputs": []
    },
    {
      "cell_type": "code",
      "source": [],
      "metadata": {
        "id": "dnWrSJH9s2Mc"
      },
      "execution_count": 37,
      "outputs": []
    }
  ]
}