{
  "nbformat": 4,
  "nbformat_minor": 0,
  "metadata": {
    "colab": {
      "provenance": [],
      "authorship_tag": "ABX9TyOoItjf8IQUFMW0IbtU9Qyw",
      "include_colab_link": true
    },
    "kernelspec": {
      "name": "python3",
      "display_name": "Python 3"
    },
    "language_info": {
      "name": "python"
    }
  },
  "cells": [
    {
      "cell_type": "markdown",
      "metadata": {
        "id": "view-in-github",
        "colab_type": "text"
      },
      "source": [
        "<a href=\"https://colab.research.google.com/github/workingbetter/Optimisation_Project_2/blob/main/Optimisation_3071806.ipynb\" target=\"_parent\"><img src=\"https://colab.research.google.com/assets/colab-badge.svg\" alt=\"Open In Colab\"/></a>"
      ]
    },
    {
      "cell_type": "markdown",
      "source": [
        "# Part 1: Maximising a Function"
      ],
      "metadata": {
        "id": "GT8cwpYu4v2M"
      }
    },
    {
      "cell_type": "code",
      "execution_count": 86,
      "metadata": {
        "colab": {
          "base_uri": "https://localhost:8080/"
        },
        "id": "Q7r7vcFndW1B",
        "outputId": "66136f1a-86bb-4a74-9de4-64d59e35ca3c"
      },
      "outputs": [
        {
          "output_type": "stream",
          "name": "stdout",
          "text": [
            "Number of runs: 50\n",
            "Number of steps: 10000\n",
            "Random search:\n",
            "Maximum value: 8.351122094311705\n",
            "Best solution: x = 0.05066574577501859 , y = 0.2977675151748942 , z = 0.11625179596100743\n",
            "\n",
            "Hill climbing:\n",
            "Maximum value: 8.326618882846196\n",
            "Best solution: x = 0.049803241974865624 , y = 0.29915417887546 , z = -0.3577974169445486\n"
          ]
        }
      ],
      "source": [
        "import random\n",
        "import math\n",
        "\n",
        "def f(x, y, z):\n",
        "    return (\n",
        "        math.exp(math.cos(53 * z))\n",
        "        + math.sin(43 * math.exp(y))\n",
        "        + math.exp(math.sin(29 * x))\n",
        "        + math.sin(67 * math.sin(z))\n",
        "        + math.cos(math.cos(37 * y))\n",
        "        - (2 * x ** 2 + y ** 2 + z ** 2) / 4\n",
        "    )\n",
        "\n",
        "def random_search(steps):\n",
        "    xb = random.uniform(-1, 1)\n",
        "    yb = random.uniform(-1, 1)\n",
        "    zb = random.uniform(-1, 1)\n",
        "    fbest = f(xb, yb, zb)\n",
        "\n",
        "    for _ in range(steps):\n",
        "        xn = random.uniform(-1, 1)\n",
        "        yn = random.uniform(-1, 1)\n",
        "        zn = random.uniform(-1, 1)\n",
        "        fnew = f(xn, yn, zn)\n",
        "\n",
        "        if fnew > fbest:\n",
        "            xb = xn\n",
        "            yb = yn\n",
        "            zb = zn\n",
        "            fbest = fnew\n",
        "\n",
        "    return (xb, yb, zb), fbest\n",
        "\n",
        "def hill_climbing(steps, sigma=0.1):\n",
        "    xb = random.uniform(-1, 1)\n",
        "    yb = random.uniform(-1, 1)\n",
        "    zb = random.uniform(-1, 1)\n",
        "    fbest = f(xb, yb, zb)\n",
        "\n",
        "    for _ in range(steps):\n",
        "        xn = xb + random.gauss(0, sigma)\n",
        "        yn = yb + random.gauss(0, sigma)\n",
        "        zn = zb + random.gauss(0, sigma)\n",
        "        fnew = f(xn, yn, zn)\n",
        "\n",
        "        if fnew > fbest:\n",
        "            xb = xn\n",
        "            yb = yn\n",
        "            zb = zn\n",
        "            fbest = fnew\n",
        "\n",
        "    return (xb, yb, zb), fbest\n",
        "\n",
        "# Set the number of runs and steps\n",
        "num_runs = 50\n",
        "num_steps = 10000\n",
        "\n",
        "# Run both algorithms multiple times and collect results\n",
        "random_search_results = []\n",
        "hill_climbing_results = []\n",
        "\n",
        "for _ in range(num_runs):\n",
        "    random_search_results.append(random_search(num_steps))\n",
        "    hill_climbing_results.append(hill_climbing(num_steps))\n",
        "\n",
        "# Find and print the maximum values for both algorithms\n",
        "random_search_max = max(random_search_results, key=lambda x: x[1])\n",
        "hill_climbing_max = max(hill_climbing_results, key=lambda x: x[1])\n",
        "\n",
        "print(f\"Number of runs: {num_runs}\")\n",
        "print(f\"Number of steps: {num_steps}\")\n",
        "\n",
        "print(\"Random search:\")\n",
        "print(\"Maximum value:\", random_search_max[1])\n",
        "print(\"Best solution: x =\", random_search_max[0][0], \", y =\", random_search_max[0][1], \", z =\", random_search_max[0][2])\n",
        "\n",
        "print(\"\\nHill climbing:\")\n",
        "print(\"Maximum value:\", hill_climbing_max[1])\n",
        "print(\"Best solution: x =\", hill_climbing_max[0][0], \", y =\", hill_climbing_max[0][1], \", z =\", hill_climbing_max[0][2])\n"
      ]
    },
    {
      "cell_type": "code",
      "source": [],
      "metadata": {
        "id": "yOx6VbbelSsf"
      },
      "execution_count": 81,
      "outputs": []
    },
    {
      "cell_type": "markdown",
      "source": [
        "# Part 2: Distribution Network"
      ],
      "metadata": {
        "id": "TFg7I2z59VM1"
      }
    },
    {
      "cell_type": "code",
      "source": [
        "# Create the distance matrix\n",
        "import numpy as np\n",
        "locations = np.array([\n",
        "    # Stores 1-23\n",
        "    [54.13917237, 10.16301447],\n",
        "    [5.163117855, 18.37136899],\n",
        "    [58.10773412, 97.325872],\n",
        "    [16.60663876, 73.67529068],\n",
        "    [10.92151473, 26.90262604],\n",
        "    [40.2830426, 49.00596112],\n",
        "    [95.90679501, 31.25379214],\n",
        "    [38.80688537, 61.84963412],\n",
        "    [50.77362816, 41.71229884],\n",
        "    [16.12104517, 4.174152112],\n",
        "    [30.57252604, 25.66416139],\n",
        "    [88.65418483, 28.60340585],\n",
        "    [76.15833298, 52.06010201],\n",
        "    [57.99079029, 58.29016932],\n",
        "    [80.11801005, 80.74242101],\n",
        "    [90.87902761, 90.97690565],\n",
        "    [2.587207522, 45.80849397],\n",
        "    [74.04980053, 2.986131158],\n",
        "    [71.70911665, 37.25817058],\n",
        "    [22.37191714, 94.53074723],\n",
        "    [24.10112206, 11.06658123],\n",
        "    [42.27800052, 9.141860385],\n",
        "    [58.3280586, 76.15907608],\n",
        "    # Warehouses W1 and W2\n",
        "    [71.25359844, 18.21268482],\n",
        "    [57.24219473, 82.66876117]\n",
        "])\n"
      ],
      "metadata": {
        "id": "vzbx76egNGdD"
      },
      "execution_count": 11,
      "outputs": []
    },
    {
      "cell_type": "code",
      "source": [],
      "metadata": {
        "id": "h9MNdJ9LSXTK"
      },
      "execution_count": null,
      "outputs": []
    },
    {
      "cell_type": "code",
      "source": [],
      "metadata": {
        "id": "fgKvhyIsYZAn"
      },
      "execution_count": null,
      "outputs": []
    },
    {
      "cell_type": "code",
      "source": [],
      "metadata": {
        "id": "CpUT3xFRYZDQ"
      },
      "execution_count": null,
      "outputs": []
    },
    {
      "cell_type": "code",
      "source": [],
      "metadata": {
        "id": "4VMYk3olYZGu"
      },
      "execution_count": null,
      "outputs": []
    },
    {
      "cell_type": "code",
      "source": [
        "import sys\n",
        "import math\n",
        "import random\n",
        "import heapq\n",
        "import matplotlib.pyplot as plt\n",
        "from itertools import chain\n",
        "from sklearn.cluster import KMeans\n",
        "import numpy as np\n",
        "\n",
        "\n",
        "class Graph:\n",
        "\n",
        "    def __init__(self, vertices):\n",
        "        self.vertices = vertices\n",
        "        self.n = len(vertices)\n",
        "\n",
        "    def x(self, v):\n",
        "        return self.vertices[v][0]\n",
        "\n",
        "    def y(self, v):\n",
        "        return self.vertices[v][1]\n",
        "\n",
        "    _d_lookup = {}\n",
        "\n",
        "    def d(self, u, v):\n",
        "        if (u, v) in self._d_lookup:\n",
        "            return self._d_lookup[(u, v)]\n",
        "        _distance = math.sqrt((u[0] - v[0])**2 + (u[1] - v[1])**2)\n",
        "        self._d_lookup[(u, v)], self._d_lookup[(v, u)] = _distance, _distance\n",
        "        return _distance\n",
        "\n",
        "class Route:\n",
        "\n",
        "    def __init__(self, g, vertices=None):\n",
        "        self.g = g\n",
        "        if vertices is None:\n",
        "            self.vertices = list(range(1, g.n))\n",
        "            random.shuffle(self.vertices)\n",
        "        else:\n",
        "            self.vertices = vertices\n",
        "        self.__cost = None\n",
        "\n",
        "    def cost(self):\n",
        "        if self.__cost is None:\n",
        "            self.__cost = 0\n",
        "            for i, j in zip([0] + self.vertices, self.vertices + [0]):\n",
        "                self.__cost += self.g.d(self.g.vertices[i], self.g.vertices[j])\n",
        "        return self.__cost\n",
        "\n",
        "class GeneticAlgorithm:\n",
        "\n",
        "    def __init__(self, g, population_size, k=5, elite_mating_rate=0.5,\n",
        "                 mutation_rate=0.015, mutation_swap_rate=0.2):\n",
        "        self.g = g\n",
        "        self.population = []\n",
        "        for _ in range(population_size):\n",
        "            self.population.append(Route(g))\n",
        "        self.population_size = population_size\n",
        "        self.k = k\n",
        "        self.elite_mating_rate = elite_mating_rate\n",
        "        self.mutation_rate = mutation_rate\n",
        "        self.mutation_swap_rate = mutation_swap_rate\n",
        "\n",
        "    def crossover(self, mum, dad):\n",
        "        size = len(mum.vertices)\n",
        "        alice, bob = [-1] * size, [-1] * size\n",
        "        start, end = sorted([random.randrange(size) for _ in range(2)])\n",
        "\n",
        "        for i in range(start, end + 1):\n",
        "            alice[i] = mum.vertices[i]\n",
        "            bob[i] = dad.vertices[i]\n",
        "\n",
        "        current_dad_position, current_mum_position = 0, 0\n",
        "        for i in chain(range(start), range(end + 1, size)):\n",
        "            while dad.vertices[current_dad_position] in alice:\n",
        "                current_dad_position += 1\n",
        "            while mum.vertices[current_mum_position] in bob:\n",
        "                current_mum_position += 1\n",
        "\n",
        "            alice[i] = dad.vertices[current_dad_position]\n",
        "            bob[i] = mum.vertices[current_mum_position]\n",
        "\n",
        "        return Route(self.g, alice), Route(self.g, bob)\n",
        "\n",
        "    def mutate(self, route):\n",
        "        if random.random() < self.mutation_rate:\n",
        "            for i in range(len(route.vertices)):\n",
        "                if random.random() < self.mutation_swap_rate:\n",
        "                    j = random.randrange(len(route.vertices))\n",
        "                    route.vertices[i], route.vertices[j] = route.vertices[j], route.vertices[i]\n",
        "\n",
        "\n",
        "    def select_parent(self, k):\n",
        "        tournament = random.sample(self.population, k)\n",
        "        return min(tournament, key=lambda route: route.cost())\n",
        "\n",
        "    def evolve(self):\n",
        "        new_population = []\n",
        "\n",
        "        elites = int(self.elite_mating_rate * self.population_size)\n",
        "        new_population.extend(heapq.nsmallest(elites, self.population, key=lambda route: route.cost()))\n",
        "\n",
        "        while len(new_population) < self.population_size:\n",
        "            mum = self.select_parent(self.k)\n",
        "            dad = self.select_parent(self.k)\n",
        "\n",
        "            alice, bob = self.crossover(mum, dad)\n",
        "            self.mutate(alice)\n",
        "            self.mutate(bob)\n",
        "\n",
        "            new_population.append(alice)\n",
        "            new_population.append(bob)\n",
        "\n",
        "        self.population = new_population\n",
        "\n",
        "def find_optimal_routes(vertices, n_clusters, n_genetic_iterations, population_size=100):\n",
        "    g = Graph(vertices)\n",
        "\n",
        "    kmeans = KMeans(n_clusters=n_clusters)\n",
        "    cluster_labels = kmeans.fit_predict(vertices)\n",
        "\n",
        "    subgraphs = [[] for _ in range(n_clusters)]\n",
        "    for i, cluster_label in enumerate(cluster_labels):\n",
        "        subgraphs[cluster_label].append(vertices[i])\n",
        "\n",
        "    optimal_routes = []\n",
        "    for subgraph in subgraphs:\n",
        "        ga = GeneticAlgorithm(Graph(subgraph), population_size)\n",
        "        for _ in range(n_genetic_iterations):\n",
        "            ga.evolve()\n",
        "        optimal_routes.append(min(ga.population, key=lambda route: route.cost()))\n",
        "\n",
        "    return optimal_routes\n",
        "\n",
        "def main():\n",
        "    vertices = [\n",
        "        (54.13917237, 10.16301447),\n",
        "        (5.163117855, 18.37136899),\n",
        "        (58.10773412, 97.325872),\n",
        "        (16.60663876, 73.67529068),\n",
        "        (10.92151473, 26.90262604),\n",
        "        (40.2830426, 49.00596112),\n",
        "        (95.90679501, 31.25379214),\n",
        "        (38.80688537, 61.84963412),\n",
        "        (50.77362816, 41.71229884),\n",
        "        (16.12104517, 4.174152112),\n",
        "        (30.57252604, 25.66416139),\n",
        "        (88.65418483, 28.60340585),\n",
        "        (76.15833298, 52.06010201),\n",
        "        (57.99079029, 58.29016932),\n",
        "        (80.11801005, 80.74242101),\n",
        "        (90.87902761, 90.97690565),\n",
        "        (2.587207522, 45.80849397),\n",
        "        (74.04980053, 2.986131158),\n",
        "        (71.70911665, 37.25817058),\n",
        "        (22.37191714, 94.53074723),\n",
        "        (24.10112206, 11.06658123),\n",
        "        (42.27800052, 9.141860385),\n",
        "        (58.3280586, 76.15907608),\n",
        "    ]\n",
        "\n",
        "    n_clusters = 2\n",
        "    n_genetic_iterations = 1000\n",
        "    optimal_routes = find_optimal_routes(vertices, n_clusters, n_genetic_iterations)\n",
        "\n",
        "    for i, route in enumerate(optimal_routes):\n",
        "        print(\"Cluster {}: Stores: {} Total cost: {:.2f}\".format(i, route.vertices, route.cost()))\n",
        "\n",
        "if __name__ == \"__main__\":\n",
        "    main()\n"
      ],
      "metadata": {
        "id": "rC5IBL2pSXVT",
        "outputId": "a4e11807-7d87-4cdb-c542-1ad1d578e6ef",
        "colab": {
          "base_uri": "https://localhost:8080/"
        }
      },
      "execution_count": 2,
      "outputs": [
        {
          "output_type": "stream",
          "name": "stdout",
          "text": [
            "Cluster 0: Stores: [13, 7, 9, 2, 1, 6, 12, 3, 5, 11, 4, 8, 10] Total cost: 284.80\n",
            "Cluster 1: Stores: [7, 1, 2, 8, 4, 3, 5, 6] Total cost: 221.10\n"
          ]
        }
      ]
    },
    {
      "cell_type": "code",
      "source": [],
      "metadata": {
        "id": "WviYA195SXX0"
      },
      "execution_count": null,
      "outputs": []
    },
    {
      "cell_type": "code",
      "source": [],
      "metadata": {
        "id": "gc9KFQ9nSXaP"
      },
      "execution_count": null,
      "outputs": []
    },
    {
      "cell_type": "code",
      "source": [],
      "metadata": {
        "id": "cd5aig5qSXb6"
      },
      "execution_count": null,
      "outputs": []
    },
    {
      "cell_type": "code",
      "source": [],
      "metadata": {
        "id": "mBvEDLVaSXfB"
      },
      "execution_count": null,
      "outputs": []
    },
    {
      "cell_type": "code",
      "source": [],
      "metadata": {
        "id": "ZN35vjWtSXic"
      },
      "execution_count": null,
      "outputs": []
    },
    {
      "cell_type": "code",
      "source": [],
      "metadata": {
        "id": "pejit7eRL9M3"
      },
      "execution_count": 2,
      "outputs": []
    },
    {
      "cell_type": "code",
      "source": [],
      "metadata": {
        "id": "Ayv910MRy84d"
      },
      "execution_count": 6,
      "outputs": []
    },
    {
      "cell_type": "code",
      "source": [],
      "metadata": {
        "id": "35SwIhh1lSul"
      },
      "execution_count": 6,
      "outputs": []
    },
    {
      "cell_type": "code",
      "source": [],
      "metadata": {
        "id": "oW4zp69bbqxX"
      },
      "execution_count": 6,
      "outputs": []
    },
    {
      "cell_type": "code",
      "source": [],
      "metadata": {
        "id": "dnWrSJH9s2Mc"
      },
      "execution_count": 6,
      "outputs": []
    }
  ]
}